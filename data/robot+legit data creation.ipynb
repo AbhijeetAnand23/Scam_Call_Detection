{
 "cells": [
  {
   "cell_type": "markdown",
   "metadata": {},
   "source": [
    "# Dataset Creation"
   ]
  },
  {
   "cell_type": "code",
   "execution_count": 1,
   "metadata": {},
   "outputs": [
    {
     "name": "stdout",
     "output_type": "stream",
     "text": [
      "Collecting gTTS\n",
      "  Downloading gTTS-2.5.4-py3-none-any.whl.metadata (4.1 kB)\n",
      "Requirement already satisfied: requests<3,>=2.27 in d:\\iiit delhi\\7th semester\\courses\\btp\\btpenv\\lib\\site-packages (from gTTS) (2.32.3)\n",
      "Collecting click<8.2,>=7.1 (from gTTS)\n",
      "  Downloading click-8.1.7-py3-none-any.whl.metadata (3.0 kB)\n",
      "Requirement already satisfied: colorama in d:\\iiit delhi\\7th semester\\courses\\btp\\btpenv\\lib\\site-packages (from click<8.2,>=7.1->gTTS) (0.4.6)\n",
      "Requirement already satisfied: charset-normalizer<4,>=2 in d:\\iiit delhi\\7th semester\\courses\\btp\\btpenv\\lib\\site-packages (from requests<3,>=2.27->gTTS) (3.4.0)\n",
      "Requirement already satisfied: idna<4,>=2.5 in d:\\iiit delhi\\7th semester\\courses\\btp\\btpenv\\lib\\site-packages (from requests<3,>=2.27->gTTS) (3.10)\n",
      "Requirement already satisfied: urllib3<3,>=1.21.1 in d:\\iiit delhi\\7th semester\\courses\\btp\\btpenv\\lib\\site-packages (from requests<3,>=2.27->gTTS) (2.2.3)\n",
      "Requirement already satisfied: certifi>=2017.4.17 in d:\\iiit delhi\\7th semester\\courses\\btp\\btpenv\\lib\\site-packages (from requests<3,>=2.27->gTTS) (2024.8.30)\n",
      "Downloading gTTS-2.5.4-py3-none-any.whl (29 kB)\n",
      "Downloading click-8.1.7-py3-none-any.whl (97 kB)\n",
      "Installing collected packages: click, gTTS\n",
      "Successfully installed click-8.1.7 gTTS-2.5.4\n"
     ]
    },
    {
     "name": "stderr",
     "output_type": "stream",
     "text": [
      "\n",
      "[notice] A new release of pip is available: 24.2 -> 24.3.1\n",
      "[notice] To update, run: python.exe -m pip install --upgrade pip\n"
     ]
    }
   ],
   "source": [
    "!pip install gTTS"
   ]
  },
  {
   "cell_type": "code",
   "execution_count": 3,
   "metadata": {},
   "outputs": [],
   "source": [
    "import pandas as pd\n",
    "from gtts import gTTS\n",
    "import os\n",
    "from tqdm import tqdm\n",
    "from pydub import AudioSegment"
   ]
  },
  {
   "cell_type": "code",
   "execution_count": 4,
   "metadata": {},
   "outputs": [
    {
     "data": {
      "text/html": [
       "<div>\n",
       "<style scoped>\n",
       "    .dataframe tbody tr th:only-of-type {\n",
       "        vertical-align: middle;\n",
       "    }\n",
       "\n",
       "    .dataframe tbody tr th {\n",
       "        vertical-align: top;\n",
       "    }\n",
       "\n",
       "    .dataframe thead th {\n",
       "        text-align: right;\n",
       "    }\n",
       "</style>\n",
       "<table border=\"1\" class=\"dataframe\">\n",
       "  <thead>\n",
       "    <tr style=\"text-align: right;\">\n",
       "      <th></th>\n",
       "      <th>Unnamed: 0</th>\n",
       "      <th>transcript</th>\n",
       "    </tr>\n",
       "  </thead>\n",
       "  <tbody>\n",
       "    <tr>\n",
       "      <th>0</th>\n",
       "      <td>0</td>\n",
       "      <td>I have to say that I'm very encouraged by the ...</td>\n",
       "    </tr>\n",
       "    <tr>\n",
       "      <th>1</th>\n",
       "      <td>1</td>\n",
       "      <td>Our Fixed Income franchise continued to benefi...</td>\n",
       "    </tr>\n",
       "    <tr>\n",
       "      <th>2</th>\n",
       "      <td>2</td>\n",
       "      <td>As a sign of our commitment to Mexico, a marke...</td>\n",
       "    </tr>\n",
       "    <tr>\n",
       "      <th>3</th>\n",
       "      <td>3</td>\n",
       "      <td>The amount of outstanding is 2% lower from the...</td>\n",
       "    </tr>\n",
       "    <tr>\n",
       "      <th>4</th>\n",
       "      <td>4</td>\n",
       "      <td>the uncertainties that color the current econo...</td>\n",
       "    </tr>\n",
       "    <tr>\n",
       "      <th>...</th>\n",
       "      <td>...</td>\n",
       "      <td>...</td>\n",
       "    </tr>\n",
       "    <tr>\n",
       "      <th>1495</th>\n",
       "      <td>1495</td>\n",
       "      <td>by blocking more threats and indeed more advan...</td>\n",
       "    </tr>\n",
       "    <tr>\n",
       "      <th>1496</th>\n",
       "      <td>1496</td>\n",
       "      <td>We took a very different approach by applying ...</td>\n",
       "    </tr>\n",
       "    <tr>\n",
       "      <th>1497</th>\n",
       "      <td>1497</td>\n",
       "      <td>And that is the ability for the firewall and e...</td>\n",
       "    </tr>\n",
       "    <tr>\n",
       "      <th>1498</th>\n",
       "      <td>1498</td>\n",
       "      <td>Now in addition to all this, the capability in...</td>\n",
       "    </tr>\n",
       "    <tr>\n",
       "      <th>1499</th>\n",
       "      <td>1499</td>\n",
       "      <td>and all XG Firewalls will now appear in the So...</td>\n",
       "    </tr>\n",
       "  </tbody>\n",
       "</table>\n",
       "<p>1500 rows × 2 columns</p>\n",
       "</div>"
      ],
      "text/plain": [
       "      Unnamed: 0                                         transcript\n",
       "0              0  I have to say that I'm very encouraged by the ...\n",
       "1              1  Our Fixed Income franchise continued to benefi...\n",
       "2              2  As a sign of our commitment to Mexico, a marke...\n",
       "3              3  The amount of outstanding is 2% lower from the...\n",
       "4              4  the uncertainties that color the current econo...\n",
       "...          ...                                                ...\n",
       "1495        1495  by blocking more threats and indeed more advan...\n",
       "1496        1496  We took a very different approach by applying ...\n",
       "1497        1497  And that is the ability for the firewall and e...\n",
       "1498        1498  Now in addition to all this, the capability in...\n",
       "1499        1499  and all XG Firewalls will now appear in the So...\n",
       "\n",
       "[1500 rows x 2 columns]"
      ]
     },
     "execution_count": 4,
     "metadata": {},
     "output_type": "execute_result"
    }
   ],
   "source": [
    "data = pd.read_csv(\"D:\\\\IIIT Delhi\\\\7th Semester\\\\Courses\\\\BTP\\\\transcript.csv\").head(1500)\n",
    "data"
   ]
  },
  {
   "cell_type": "code",
   "execution_count": 5,
   "metadata": {},
   "outputs": [],
   "source": [
    "output_folder = \"D:\\\\IIIT Delhi\\\\7th Semester\\\\Courses\\\\BTP\\\\Dataset\\\\data\\\\robot+legit\\\\\""
   ]
  },
  {
   "cell_type": "code",
   "execution_count": null,
   "metadata": {},
   "outputs": [],
   "source": [
    "for idx, row in tqdm(data.iterrows(), total=len(data), desc=\"Processing Transcripts\"):\n",
    "    # Extract the transcript from the dataframe (replace 'transcript_column' with the actual column name)\n",
    "    transcript = row['transcript']  # Replace with the actual column name in your DataFrame\n",
    "    \n",
    "    # Create the TTS object\n",
    "    tts = gTTS(text=transcript, lang='en')  # You can change the language as needed\n",
    "\n",
    "    # Save the audio as an MP3 file first\n",
    "    mp3_file_path = os.path.join(output_folder, f\"transcript_{idx+1}.mp3\")\n",
    "    tts.save(mp3_file_path)\n",
    "\n",
    "    # Convert the MP3 file to 16kHz WAV using pydub\n",
    "    audio = AudioSegment.from_mp3(mp3_file_path)\n",
    "    audio = audio.set_frame_rate(16000)  # Set the sample rate to 16kHz\n",
    "\n",
    "    # Export the audio as a WAV file\n",
    "    wav_file_path = os.path.join(output_folder, f\"transcript_{idx+1}.wav\")\n",
    "    audio.export(wav_file_path, format=\"wav\")\n",
    "\n",
    "    # Optionally, remove the temporary MP3 file\n",
    "    os.remove(mp3_file_path)"
   ]
  },
  {
   "cell_type": "code",
   "execution_count": 24,
   "metadata": {},
   "outputs": [],
   "source": [
    "tosave = data.head(1385)"
   ]
  },
  {
   "cell_type": "code",
   "execution_count": 27,
   "metadata": {},
   "outputs": [
    {
     "name": "stderr",
     "output_type": "stream",
     "text": [
      "C:\\Users\\abhij\\AppData\\Local\\Temp\\ipykernel_18408\\3029695330.py:1: SettingWithCopyWarning: \n",
      "A value is trying to be set on a copy of a slice from a DataFrame\n",
      "\n",
      "See the caveats in the documentation: https://pandas.pydata.org/pandas-docs/stable/user_guide/indexing.html#returning-a-view-versus-a-copy\n",
      "  tosave.drop('Unnamed: 0', axis=1, inplace=True)\n"
     ]
    }
   ],
   "source": [
    "tosave.drop('Unnamed: 0', axis=1, inplace=True)"
   ]
  },
  {
   "cell_type": "code",
   "execution_count": 30,
   "metadata": {},
   "outputs": [],
   "source": [
    "transcript_ids = ['transcript_' + str(i + 1) for i in range(1385)]"
   ]
  },
  {
   "cell_type": "code",
   "execution_count": 31,
   "metadata": {},
   "outputs": [],
   "source": [
    "tosave.insert(0, 'transcript_id', transcript_ids)\n"
   ]
  },
  {
   "cell_type": "code",
   "execution_count": 33,
   "metadata": {},
   "outputs": [
    {
     "data": {
      "text/html": [
       "<div>\n",
       "<style scoped>\n",
       "    .dataframe tbody tr th:only-of-type {\n",
       "        vertical-align: middle;\n",
       "    }\n",
       "\n",
       "    .dataframe tbody tr th {\n",
       "        vertical-align: top;\n",
       "    }\n",
       "\n",
       "    .dataframe thead th {\n",
       "        text-align: right;\n",
       "    }\n",
       "</style>\n",
       "<table border=\"1\" class=\"dataframe\">\n",
       "  <thead>\n",
       "    <tr style=\"text-align: right;\">\n",
       "      <th></th>\n",
       "      <th>transcript_id</th>\n",
       "      <th>transcript</th>\n",
       "    </tr>\n",
       "  </thead>\n",
       "  <tbody>\n",
       "    <tr>\n",
       "      <th>0</th>\n",
       "      <td>transcript_1</td>\n",
       "      <td>I have to say that I'm very encouraged by the ...</td>\n",
       "    </tr>\n",
       "    <tr>\n",
       "      <th>1</th>\n",
       "      <td>transcript_2</td>\n",
       "      <td>Our Fixed Income franchise continued to benefi...</td>\n",
       "    </tr>\n",
       "    <tr>\n",
       "      <th>2</th>\n",
       "      <td>transcript_3</td>\n",
       "      <td>As a sign of our commitment to Mexico, a marke...</td>\n",
       "    </tr>\n",
       "    <tr>\n",
       "      <th>3</th>\n",
       "      <td>transcript_4</td>\n",
       "      <td>The amount of outstanding is 2% lower from the...</td>\n",
       "    </tr>\n",
       "    <tr>\n",
       "      <th>4</th>\n",
       "      <td>transcript_5</td>\n",
       "      <td>the uncertainties that color the current econo...</td>\n",
       "    </tr>\n",
       "    <tr>\n",
       "      <th>...</th>\n",
       "      <td>...</td>\n",
       "      <td>...</td>\n",
       "    </tr>\n",
       "    <tr>\n",
       "      <th>1380</th>\n",
       "      <td>transcript_1381</td>\n",
       "      <td>If in the meantime, you have any questions, as...</td>\n",
       "    </tr>\n",
       "    <tr>\n",
       "      <th>1381</th>\n",
       "      <td>transcript_1382</td>\n",
       "      <td>we have once again a record crowd joining our ...</td>\n",
       "    </tr>\n",
       "    <tr>\n",
       "      <th>1382</th>\n",
       "      <td>transcript_1383</td>\n",
       "      <td>the input cost as well. I have to say, the cha...</td>\n",
       "    </tr>\n",
       "    <tr>\n",
       "      <th>1383</th>\n",
       "      <td>transcript_1384</td>\n",
       "      <td>remind everybody where we are. We are in the p...</td>\n",
       "    </tr>\n",
       "    <tr>\n",
       "      <th>1384</th>\n",
       "      <td>transcript_1385</td>\n",
       "      <td>yes, even so we don't see the leverage yet tha...</td>\n",
       "    </tr>\n",
       "  </tbody>\n",
       "</table>\n",
       "<p>1385 rows × 2 columns</p>\n",
       "</div>"
      ],
      "text/plain": [
       "        transcript_id                                         transcript\n",
       "0        transcript_1  I have to say that I'm very encouraged by the ...\n",
       "1        transcript_2  Our Fixed Income franchise continued to benefi...\n",
       "2        transcript_3  As a sign of our commitment to Mexico, a marke...\n",
       "3        transcript_4  The amount of outstanding is 2% lower from the...\n",
       "4        transcript_5  the uncertainties that color the current econo...\n",
       "...               ...                                                ...\n",
       "1380  transcript_1381  If in the meantime, you have any questions, as...\n",
       "1381  transcript_1382  we have once again a record crowd joining our ...\n",
       "1382  transcript_1383  the input cost as well. I have to say, the cha...\n",
       "1383  transcript_1384  remind everybody where we are. We are in the p...\n",
       "1384  transcript_1385  yes, even so we don't see the leverage yet tha...\n",
       "\n",
       "[1385 rows x 2 columns]"
      ]
     },
     "execution_count": 33,
     "metadata": {},
     "output_type": "execute_result"
    }
   ],
   "source": [
    "tosave"
   ]
  },
  {
   "cell_type": "code",
   "execution_count": 34,
   "metadata": {},
   "outputs": [],
   "source": [
    "tosave.to_csv(\"D:\\\\IIIT Delhi\\\\7th Semester\\\\Courses\\\\BTP\\\\Dataset\\\\data\\\\try.csv\")"
   ]
  },
  {
   "cell_type": "markdown",
   "metadata": {},
   "source": [
    "# Lowpass Filter and Adding Noise"
   ]
  },
  {
   "cell_type": "code",
   "execution_count": 1,
   "metadata": {},
   "outputs": [],
   "source": [
    "import os\n",
    "import numpy as np\n",
    "import librosa\n",
    "import scipy.signal as signal\n",
    "import soundfile as sf\n",
    "from tqdm import tqdm"
   ]
  },
  {
   "cell_type": "code",
   "execution_count": 2,
   "metadata": {},
   "outputs": [],
   "source": [
    "# Function to apply a low-pass filter\n",
    "def lowpass_filter(audio, sample_rate, cutoff=3500):\n",
    "    nyquist = 0.5 * sample_rate\n",
    "    normal_cutoff = cutoff / nyquist\n",
    "    b, a = signal.butter(4, normal_cutoff, btype='low')\n",
    "    filtered_audio = signal.filtfilt(b, a, audio)\n",
    "    return filtered_audio\n",
    "\n",
    "# Function to add white noise\n",
    "def add_white_noise(audio, noise_level=0.01):\n",
    "    noise = np.random.normal(0, noise_level, len(audio))\n",
    "    noisy_audio = audio + noise\n",
    "    return noisy_audio"
   ]
  },
  {
   "cell_type": "code",
   "execution_count": 3,
   "metadata": {},
   "outputs": [],
   "source": [
    "input_dir = \"D:\\\\IIIT Delhi\\\\7th Semester\\\\Courses\\\\BTP\\\\Dataset\\\\data\\\\robot+legit\\\\\"\n",
    "output_dir = \"D:\\\\IIIT Delhi\\\\7th Semester\\\\Courses\\\\BTP\\\\Dataset\\\\data\\\\robot+legit\\\\processed\\\\\""
   ]
  },
  {
   "cell_type": "code",
   "execution_count": 4,
   "metadata": {},
   "outputs": [],
   "source": [
    "os.makedirs(output_dir, exist_ok=True)\n",
    "\n",
    "# Get list of all .wav files in the directory\n",
    "audio_files = [f for f in os.listdir(input_dir) if f.endswith('.wav')]"
   ]
  },
  {
   "cell_type": "code",
   "execution_count": 5,
   "metadata": {},
   "outputs": [
    {
     "data": {
      "text/plain": [
       "'transcript_1.wav'"
      ]
     },
     "execution_count": 5,
     "metadata": {},
     "output_type": "execute_result"
    }
   ],
   "source": [
    "audio_files[0]"
   ]
  },
  {
   "cell_type": "code",
   "execution_count": 6,
   "metadata": {},
   "outputs": [
    {
     "name": "stderr",
     "output_type": "stream",
     "text": [
      "Processing audio files: 100%|██████████| 1384/1384 [01:38<00:00, 14.04it/s]\n"
     ]
    }
   ],
   "source": [
    "for file_name in tqdm(audio_files, desc=\"Processing audio files\"):\n",
    "    # Load the audio file\n",
    "    file_path = os.path.join(input_dir, file_name)\n",
    "    audio, sample_rate = librosa.load(file_path, sr=None)\n",
    "\n",
    "    # Apply low-pass filter\n",
    "    filtered_audio = lowpass_filter(audio, sample_rate, cutoff=3500)\n",
    "\n",
    "    # Add white noise\n",
    "    noisy_audio = add_white_noise(filtered_audio, noise_level=0.01)\n",
    "\n",
    "    # Save the processed audio\n",
    "    output_path = os.path.join(output_dir, file_name)\n",
    "    sf.write(output_path, noisy_audio, sample_rate)"
   ]
  },
  {
   "cell_type": "code",
   "execution_count": null,
   "metadata": {},
   "outputs": [],
   "source": []
  }
 ],
 "metadata": {
  "kernelspec": {
   "display_name": "btpenv",
   "language": "python",
   "name": "python3"
  },
  "language_info": {
   "codemirror_mode": {
    "name": "ipython",
    "version": 3
   },
   "file_extension": ".py",
   "mimetype": "text/x-python",
   "name": "python",
   "nbconvert_exporter": "python",
   "pygments_lexer": "ipython3",
   "version": "3.9.13"
  }
 },
 "nbformat": 4,
 "nbformat_minor": 2
}
