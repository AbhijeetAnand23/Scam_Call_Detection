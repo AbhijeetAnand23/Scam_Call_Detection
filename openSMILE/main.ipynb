{
 "cells": [
  {
   "cell_type": "markdown",
   "metadata": {},
   "source": [
    "## Generating Metafile"
   ]
  },
  {
   "cell_type": "code",
   "execution_count": 8,
   "metadata": {},
   "outputs": [],
   "source": [
    "import os\n",
    "import csv"
   ]
  },
  {
   "cell_type": "code",
   "execution_count": 5,
   "metadata": {},
   "outputs": [],
   "source": [
    "directory = \"/home/arunb/Abhijeet_2021509/data\"\n",
    "metafile_path = \"/home/arunb/Abhijeet_2021509/scam-legit/openSMILE/metafile.csv\""
   ]
  },
  {
   "cell_type": "code",
   "execution_count": null,
   "metadata": {},
   "outputs": [],
   "source": [
    "folder_to_label = {\n",
    "    \"human+legit\": \"legit\",\n",
    "    \"robot+legit\": \"legit\",\n",
    "    \"robot+scam\": \"scam\"\n",
    "}"
   ]
  },
  {
   "cell_type": "code",
   "execution_count": 7,
   "metadata": {},
   "outputs": [],
   "source": [
    "file_data = []\n",
    "\n",
    "for folder, label in folder_to_label.items():\n",
    "    folder_path = os.path.join(directory, folder)\n",
    "    if os.path.exists(folder_path):\n",
    "        for root, _, files in os.walk(folder_path):\n",
    "            for file in files:\n",
    "                file_path = os.path.join(root, file)\n",
    "                file_data.append([file_path, label])\n"
   ]
  },
  {
   "cell_type": "code",
   "execution_count": 10,
   "metadata": {},
   "outputs": [
    {
     "name": "stdout",
     "output_type": "stream",
     "text": [
      "Metafile generated at: /home/arunb/Abhijeet_2021509/scam-legit/openSMILE/metafile.csv\n"
     ]
    }
   ],
   "source": [
    "with open(metafile_path, mode='w', newline='', encoding='utf-8') as metafile:\n",
    "    writer = csv.writer(metafile)\n",
    "    writer.writerow([\"file_location\", \"label\"])\n",
    "    writer.writerows(file_data)\n",
    "\n",
    "print(f\"Metafile generated at: {metafile_path}\")"
   ]
  },
  {
   "cell_type": "markdown",
   "metadata": {},
   "source": [
    "## Feature Extraction"
   ]
  },
  {
   "cell_type": "code",
   "execution_count": 7,
   "metadata": {},
   "outputs": [],
   "source": [
    "import os\n",
    "import pandas as pd\n",
    "import opensmile\n",
    "from multiprocessing import Pool, cpu_count\n",
    "from tqdm import tqdm"
   ]
  },
  {
   "cell_type": "code",
   "execution_count": 8,
   "metadata": {},
   "outputs": [],
   "source": [
    "smile = opensmile.Smile(\n",
    "    feature_set=opensmile.FeatureSet.ComParE_2016,  # Choose feature set (e.g., ComParE_2016)\n",
    "    feature_level=opensmile.FeatureLevel.Functionals,  # Choose feature level\n",
    ")"
   ]
  },
  {
   "cell_type": "code",
   "execution_count": 9,
   "metadata": {},
   "outputs": [],
   "source": [
    "def process_audio(row):\n",
    "    audio_file = row['file_location']\n",
    "    label = row['label']\n",
    "    features = smile.process_file(audio_file)\n",
    "    features['label'] = 1 if label == \"scam\" else 0\n",
    "    return features\n"
   ]
  },
  {
   "cell_type": "code",
   "execution_count": 10,
   "metadata": {},
   "outputs": [],
   "source": [
    "metafile_path = \"/home/arunb/Abhijeet_2021509/scam-legit/openSMILE/metafile.csv\"\n",
    "features_file = \"/home/arunb/Abhijeet_2021509/scam-legit/openSMILE/features.csv\"\n",
    "\n",
    "metadata = pd.read_csv(metafile_path)"
   ]
  },
  {
   "cell_type": "code",
   "execution_count": 11,
   "metadata": {},
   "outputs": [
    {
     "name": "stderr",
     "output_type": "stream",
     "text": [
      "Extracting Features: 100%|██████████| 15295/15295 [04:02<00:00, 62.98it/s] \n"
     ]
    },
    {
     "name": "stdout",
     "output_type": "stream",
     "text": [
      "Combined features saved to: /home/arunb/Abhijeet_2021509/scam-legit/openSMILE/features.csv\n"
     ]
    }
   ],
   "source": [
    "with Pool(cpu_count()) as pool:\n",
    "    results = list(tqdm(pool.imap(process_audio, [row for _, row in metadata.iterrows()]), \n",
    "                        total=len(metadata), desc=\"Extracting Features\"))\n",
    "\n",
    "all_features = pd.concat(results, ignore_index=True)\n",
    "\n",
    "# Save combined features to a CSV file\n",
    "all_features.to_csv(features_file, index=False)\n",
    "print(f\"Combined features saved to: {features_file}\")"
   ]
  },
  {
   "cell_type": "markdown",
   "metadata": {},
   "source": [
    "## Classification"
   ]
  },
  {
   "cell_type": "code",
   "execution_count": 22,
   "metadata": {},
   "outputs": [],
   "source": [
    "import pandas as pd\n",
    "from sklearn.model_selection import train_test_split\n",
    "from sklearn.preprocessing import StandardScaler\n",
    "from sklearn.ensemble import RandomForestClassifier, GradientBoostingClassifier\n",
    "from sklearn.linear_model import LogisticRegression\n",
    "from sklearn.svm import SVC\n",
    "from sklearn.neighbors import KNeighborsClassifier\n",
    "from sklearn.metrics import classification_report, accuracy_score\n",
    "from sklearn.utils import shuffle"
   ]
  },
  {
   "cell_type": "code",
   "execution_count": 13,
   "metadata": {},
   "outputs": [],
   "source": [
    "# Load the saved features\n",
    "features_file = \"/home/arunb/Abhijeet_2021509/scam-legit/openSMILE/features.csv\"\n",
    "data = pd.read_csv(features_file)"
   ]
  },
  {
   "cell_type": "code",
   "execution_count": 15,
   "metadata": {},
   "outputs": [],
   "source": [
    "data = shuffle(data, random_state=42)"
   ]
  },
  {
   "cell_type": "code",
   "execution_count": 18,
   "metadata": {},
   "outputs": [],
   "source": [
    "X = data.drop(columns=[\"label\"])\n",
    "y = data[\"label\"]\n",
    "\n",
    "X_train, X_test, y_train, y_test = train_test_split(X, y, test_size=0.2, random_state=42, stratify=y)\n",
    "\n",
    "scaler = StandardScaler()\n",
    "X_train = scaler.fit_transform(X_train)\n",
    "X_test = scaler.transform(X_test)"
   ]
  },
  {
   "cell_type": "code",
   "execution_count": 23,
   "metadata": {},
   "outputs": [],
   "source": [
    "classifiers = {\n",
    "    \"Random Forest\": RandomForestClassifier(n_estimators=100, random_state=42),\n",
    "    \"Logistic Regression\": LogisticRegression(random_state=42),\n",
    "    \"Support Vector Machine (SVM)\": SVC(random_state=42),\n",
    "    \"K-Nearest Neighbors (KNN)\": KNeighborsClassifier(),\n",
    "    \"Gradient Boosting\": GradientBoostingClassifier(random_state=42)\n",
    "}"
   ]
  },
  {
   "cell_type": "code",
   "execution_count": 24,
   "metadata": {},
   "outputs": [
    {
     "name": "stdout",
     "output_type": "stream",
     "text": [
      "\n",
      "Training and evaluating Random Forest...\n",
      "Accuracy: 1.0\n",
      "\n",
      "Classification Report:\n",
      "\n",
      "              precision    recall  f1-score   support\n",
      "\n",
      "           0       1.00      1.00      1.00      2774\n",
      "           1       1.00      1.00      1.00       285\n",
      "\n",
      "    accuracy                           1.00      3059\n",
      "   macro avg       1.00      1.00      1.00      3059\n",
      "weighted avg       1.00      1.00      1.00      3059\n",
      "\n",
      "\n",
      "Training and evaluating Logistic Regression...\n",
      "Accuracy: 0.9993461915658712\n",
      "\n",
      "Classification Report:\n",
      "\n",
      "              precision    recall  f1-score   support\n",
      "\n",
      "           0       1.00      1.00      1.00      2774\n",
      "           1       0.99      1.00      1.00       285\n",
      "\n",
      "    accuracy                           1.00      3059\n",
      "   macro avg       1.00      1.00      1.00      3059\n",
      "weighted avg       1.00      1.00      1.00      3059\n",
      "\n",
      "\n",
      "Training and evaluating Support Vector Machine (SVM)...\n",
      "Accuracy: 0.9980385746976136\n",
      "\n",
      "Classification Report:\n",
      "\n",
      "              precision    recall  f1-score   support\n",
      "\n",
      "           0       1.00      1.00      1.00      2774\n",
      "           1       1.00      0.98      0.99       285\n",
      "\n",
      "    accuracy                           1.00      3059\n",
      "   macro avg       1.00      0.99      0.99      3059\n",
      "weighted avg       1.00      1.00      1.00      3059\n",
      "\n",
      "\n",
      "Training and evaluating K-Nearest Neighbors (KNN)...\n",
      "Accuracy: 0.9996730957829356\n",
      "\n",
      "Classification Report:\n",
      "\n",
      "              precision    recall  f1-score   support\n",
      "\n",
      "           0       1.00      1.00      1.00      2774\n",
      "           1       1.00      1.00      1.00       285\n",
      "\n",
      "    accuracy                           1.00      3059\n",
      "   macro avg       1.00      1.00      1.00      3059\n",
      "weighted avg       1.00      1.00      1.00      3059\n",
      "\n",
      "\n",
      "Training and evaluating Gradient Boosting...\n",
      "Accuracy: 0.9996730957829356\n",
      "\n",
      "Classification Report:\n",
      "\n",
      "              precision    recall  f1-score   support\n",
      "\n",
      "           0       1.00      1.00      1.00      2774\n",
      "           1       1.00      1.00      1.00       285\n",
      "\n",
      "    accuracy                           1.00      3059\n",
      "   macro avg       1.00      1.00      1.00      3059\n",
      "weighted avg       1.00      1.00      1.00      3059\n",
      "\n"
     ]
    }
   ],
   "source": [
    "# Loop through each classifier, train, and evaluate\n",
    "for name, model in classifiers.items():\n",
    "    print(f\"\\nTraining and evaluating {name}...\")\n",
    "\n",
    "    # Train the model\n",
    "    model.fit(X_train, y_train)\n",
    "\n",
    "    # Predict on the test set\n",
    "    y_pred = model.predict(X_test)\n",
    "\n",
    "    # Evaluate the model\n",
    "    accuracy = accuracy_score(y_test, y_pred)\n",
    "    print(f\"Accuracy: {accuracy}\")\n",
    "    print(\"\\nClassification Report:\\n\")\n",
    "    print(classification_report(y_test, y_pred))"
   ]
  },
  {
   "cell_type": "code",
   "execution_count": null,
   "metadata": {},
   "outputs": [],
   "source": []
  }
 ],
 "metadata": {
  "kernelspec": {
   "display_name": "project1",
   "language": "python",
   "name": "python3"
  },
  "language_info": {
   "codemirror_mode": {
    "name": "ipython",
    "version": 3
   },
   "file_extension": ".py",
   "mimetype": "text/x-python",
   "name": "python",
   "nbconvert_exporter": "python",
   "pygments_lexer": "ipython3",
   "version": "3.12.7"
  }
 },
 "nbformat": 4,
 "nbformat_minor": 2
}
